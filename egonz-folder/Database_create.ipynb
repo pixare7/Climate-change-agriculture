{
 "cells": [
  {
   "cell_type": "code",
   "execution_count": 1,
   "id": "16c5eed4-3d6c-4d22-836b-a55349b649d7",
   "metadata": {},
   "outputs": [],
   "source": [
    "import pandas as pd\n",
    "import numpy as np\n",
    "import pprint\n",
    "import matplotlib.pyplot as plt\n",
    "import scipy.stats as st\n",
    "from scipy.stats import sem\n",
    "from scipy.stats import linregress"
   ]
  },
  {
   "cell_type": "markdown",
   "id": "e456d020-3080-4f3d-ad7a-dcbc6eb159a9",
   "metadata": {},
   "source": [
    "# Data Load/Setup"
   ]
  },
  {
   "cell_type": "code",
   "execution_count": 2,
   "id": "9ae277d4-ac30-4e2b-87d5-da07389d540f",
   "metadata": {},
   "outputs": [],
   "source": [
    "# Import CSV files\n",
    "#Files currently being used\n",
    "emissions_df = pd.read_csv('Resources/co2_emissions_kt_by_country.csv')\n",
    "pesticide_df = pd.read_csv('Resources/pesticide-use-tonnes.csv')\n",
    "population_df = pd.read_csv('Resources/population.csv')\n",
    "\n",
    "#CSV files from land folder needs cleaning\n",
    "land_allotment_df = pd.read_csv('Resources/Land/agr_land_percent.csv')\n",
    "total_land_df = pd.read_csv('Resources/Land/total-land.csv')\n",
    "\n",
    "#CSV file on crop yields, needs cleaning for ease of use\n",
    "crop_yields_df = pd.read_csv('Resources/crop_yields.csv')\n",
    "\n",
    "#CSV files for GDP\n",
    "agShare_df = pd.read_csv('Resources/agriculture-share-gdp.csv')\n",
    "gdp_df = pd.read_csv('Resources/national-gdp-penn-world-table.csv')"
   ]
  },
  {
   "cell_type": "markdown",
   "id": "c00f0b28-6e4a-4725-b8ed-ddc76bcdf215",
   "metadata": {},
   "source": [
    "## Data Cleanup/Modifying\n"
   ]
  },
  {
   "cell_type": "code",
   "execution_count": 3,
   "id": "e7f16787-45b5-4ef5-ae5c-8db6408d1694",
   "metadata": {},
   "outputs": [],
   "source": [
    "# Preparing emissions, pesticide, population dataframes\n",
    "emissions_df = emissions_df.rename(columns = {'country_code': 'Code','country_name': 'Country', 'year': 'Year', 'value': 'CO2_Emissions'})\n",
    "\n",
    "pesticide_df = pesticide_df.rename(columns = {'Entity': 'Country', \n",
    "                                              'Pesticides (total) | 00001357 || Agricultural Use | 005157 || Tonnes': 'Total_Pesticides'})\n",
    "\n",
    "population_df = population_df.rename(columns = {'Entity': 'Country', 'Population (historical)': 'Population'})\n"
   ]
  },
  {
   "cell_type": "code",
   "execution_count": 4,
   "id": "9bc7008a-2455-4180-9f43-7147bd7b4925",
   "metadata": {},
   "outputs": [],
   "source": [
    "#Merging GDP based dataframes\n",
    "gdp_cleaned_df = pd.merge(gdp_df, agShare_df, how = 'left', left_on = ['Entity', 'Year', 'Code'], right_on = ['Entity', 'Year', 'Code']).dropna()\n",
    "gdp_cleaned_df = gdp_cleaned_df.rename(columns = {'Entity': 'Country','GDP (output, multiple price benchmarks)': 'GDP',\n",
    "                                                  'Agriculture, forestry, and fishing, value added (% of GDP)': 'Ag_perc_GDP'})\n",
    "gdp_cleaned_df['Ag_perc_GDP'] = gdp_cleaned_df['Ag_perc_GDP']/100\n",
    "gdp_cleaned_df['Agri_GDP'] = gdp_cleaned_df['GDP'] * gdp_cleaned_df['Ag_perc_GDP']"
   ]
  },
  {
   "cell_type": "code",
   "execution_count": 5,
   "id": "4addea7a-9683-4056-9397-1f1b83c66911",
   "metadata": {},
   "outputs": [],
   "source": [
    "# Modifying agricultural land allotment df\n",
    "land_holder = land_allotment_df.drop(columns = ['Indicator Name', 'Indicator Code'])\n",
    "\n",
    "\n",
    "df_long = pd.melt(land_holder, id_vars=['Country Name', 'Country Code'], var_name = 'Year', value_name ='Ag_perc_land')\n",
    "df_long.rename(columns={'Country Name': 'Country', 'Country Code': 'Code'}, inplace=True)\n",
    "df_long_sorted_df = df_long.sort_values(by=['Country', 'Year'])\n",
    "df_long_sorted_df = df_long_sorted_df.reset_index(drop = True)\n",
    "\n",
    "indicies_to_drop = df_long_sorted_df[df_long_sorted_df['Year'] == 'Unnamed: 68'].index\n",
    "df_long_sorted_df.drop(index = indicies_to_drop, inplace=True)\n",
    "\n",
    "df_long_sorted_df['Year'] = df_long_sorted_df['Year'].astype(np.int64)\n",
    "land_agri_final_df = df_long_sorted_df\n"
   ]
  },
  {
   "cell_type": "code",
   "execution_count": 6,
   "id": "efb150f0-5732-4478-b6cd-2ac11796189f",
   "metadata": {},
   "outputs": [],
   "source": [
    "#Modifying total_land_df\n",
    "total_land_df\n",
    "land_holder = total_land_df.drop(columns = ['Indicator Name', 'Indicator Code'])\n",
    "\n",
    "\n",
    "df_long = pd.melt(land_holder, id_vars=['Country Name', 'Country Code'], var_name = 'Year', value_name ='Total_Land_sq_km')\n",
    "df_long.rename(columns={'Country Name': 'Country', 'Country Code': 'Code'}, inplace=True)\n",
    "df_long_sorted_df = df_long.sort_values(by=['Country', 'Year'])\n",
    "df_long_sorted_df = df_long_sorted_df.reset_index(drop = True)\n",
    "\n",
    "indicies_to_drop = df_long_sorted_df[df_long_sorted_df['Year'] == 'Unnamed: 68'].index\n",
    "df_long_sorted_df.drop(index = indicies_to_drop, inplace=True)\n",
    "\n",
    "df_long_sorted_df['Year'] = df_long_sorted_df['Year'].astype(np.int64)\n",
    "total_land_final_df = df_long_sorted_df\n"
   ]
  },
  {
   "cell_type": "code",
   "execution_count": 7,
   "id": "e860f994-8864-49f5-a703-8a0ab4ae8123",
   "metadata": {},
   "outputs": [],
   "source": [
    "#Merging total_land_final_df and land_agri_final_df into land_df\n",
    "land_df = pd.merge(total_land_final_df, land_agri_final_df, how = 'left', left_on = ['Country', 'Year', 'Code'],\n",
    "                   right_on = ['Country', 'Year', 'Code']).dropna()\n",
    "land_df['Agri_Land_sq_km'] = land_df['Total_Land_sq_km'] * land_df['Ag_perc_land']"
   ]
  },
  {
   "cell_type": "code",
   "execution_count": 8,
   "id": "719a8ad4-bfe2-4367-9355-f5b56b21a11a",
   "metadata": {},
   "outputs": [],
   "source": [
    "# Modifying crop_yields_df so that it shows sum crop yield within each country's year\n",
    "# Note: crop yields are in tonnes per hecatare\n",
    "\n",
    "test_crop_df = crop_yields_df\n",
    "all_columns = crop_yields_df.columns.tolist()\n",
    "crop_columns = all_columns[2:]\n",
    "crop_yields_df['Total_Crop_Yield_t_ha'] = crop_yields_df[crop_columns].sum(axis=1)\n",
    "\n",
    "crop_yields_df = test_crop_df.drop(columns=crop_columns)\n",
    "crop_yields_df = crop_yields_df.rename(columns = {'country' : 'Country', 'year': 'Year'})"
   ]
  },
  {
   "cell_type": "code",
   "execution_count": 9,
   "id": "e83abb0c-6373-446e-840f-76b9fc1369ed",
   "metadata": {},
   "outputs": [
    {
     "name": "stdout",
     "output_type": "stream",
     "text": [
      "256\n",
      "251\n",
      "271\n",
      "177\n",
      "258\n",
      "255\n",
      "---------------\n",
      "255\n",
      "219\n",
      "250\n",
      "177\n",
      "258\n"
     ]
    }
   ],
   "source": [
    "#Ensuring all data has the same type of countrys/codes\n",
    "print(emissions_df['Country'].nunique())\n",
    "print(pesticide_df['Country'].nunique())\n",
    "print(population_df['Country'].nunique())\n",
    "print(gdp_cleaned_df['Country'].nunique())\n",
    "print(land_df['Country'].nunique())\n",
    "print(crop_yields_df['Country'].nunique())\n",
    "print('---------------')\n",
    "print(emissions_df['Code'].nunique())\n",
    "print(pesticide_df['Code'].nunique())\n",
    "print(population_df['Code'].nunique())\n",
    "print(gdp_cleaned_df['Code'].nunique())\n",
    "print(land_df['Code'].nunique())"
   ]
  },
  {
   "cell_type": "code",
   "execution_count": 10,
   "id": "af7f3546-e41f-4132-90ae-d4ca9dfefeb2",
   "metadata": {},
   "outputs": [],
   "source": [
    "#Extracting unique Codes\n",
    "codes_emi = set(emissions_df['Code'].unique())\n",
    "codes_pest = set(pesticide_df['Code'].unique())\n",
    "codes_pop = set(population_df['Code'].unique())\n",
    "codes_gdp = set(gdp_cleaned_df['Code'].unique())\n",
    "codes_land = set(land_df['Code'].unique())\n",
    "\n",
    "#Finding Common Codes\n",
    "common_codes = codes_emi.intersection(codes_pest).intersection(codes_pop).intersection(codes_gdp).intersection(codes_land)\n",
    "\n",
    "#Filter DataFrames\n",
    "emissions_df_filtered = emissions_df[emissions_df['Code'].isin(common_codes)]\n",
    "pesticide_df_filtered = pesticide_df[pesticide_df['Code'].isin(common_codes)]\n",
    "population_df_filtered = population_df[population_df['Code'].isin(common_codes)]\n",
    "gdp_cleaned_df_filtered = gdp_cleaned_df[gdp_cleaned_df['Code'].isin(common_codes)]\n",
    "land_df_filtered = land_df[land_df['Code'].isin(common_codes)]\n",
    "\n",
    "#Extracting Common Countries\n",
    "country_emi = set(emissions_df_filtered['Country'].unique())\n",
    "country_pest = set(pesticide_df_filtered['Country'].unique())\n",
    "country_crop = set(crop_yields_df['Country'].unique())\n",
    "\n",
    "#Finding Common Countries\n",
    "common_countries = country_emi.intersection(country_pest).intersection(country_crop)\n",
    "\n",
    "#Filter DataFrames\n",
    "crop_yields_df_filtered = crop_yields_df[crop_yields_df['Country'].isin(common_countries)]\n"
   ]
  },
  {
   "cell_type": "code",
   "execution_count": 11,
   "id": "7c0fc2f2-2166-494b-b54e-f500ab95b262",
   "metadata": {},
   "outputs": [
    {
     "name": "stdout",
     "output_type": "stream",
     "text": [
      "172\n",
      "171\n",
      "171\n",
      "171\n",
      "171\n",
      "147\n",
      "---------------\n",
      "171\n",
      "171\n",
      "171\n",
      "171\n",
      "171\n"
     ]
    }
   ],
   "source": [
    "#Ensuring All Data has the same Country names for their codes\n",
    "print(emissions_df_filtered['Country'].nunique())\n",
    "print(pesticide_df_filtered['Country'].nunique())\n",
    "print(population_df_filtered['Country'].nunique())\n",
    "print(gdp_cleaned_df_filtered['Country'].nunique())\n",
    "print(land_df_filtered['Country'].nunique())\n",
    "print(crop_yields_df_filtered['Country'].nunique())\n",
    "print('---------------')\n",
    "print(emissions_df_filtered['Code'].nunique())\n",
    "print(pesticide_df_filtered['Code'].nunique())\n",
    "print(population_df_filtered['Code'].nunique())\n",
    "print(gdp_cleaned_df_filtered['Code'].nunique())\n",
    "print(land_df_filtered['Code'].nunique())\n"
   ]
  },
  {
   "cell_type": "code",
   "execution_count": 12,
   "id": "a0423d7c-24af-43de-bae4-a4696f2f3224",
   "metadata": {},
   "outputs": [],
   "source": [
    "#Merging total_land_final_df and land_agri_final_df into land_df\n",
    "agriculture_df = pd.merge(land_df_filtered, crop_yields_df_filtered, how = 'left', left_on = ['Country', 'Year'],\n",
    "                   right_on = ['Country', 'Year']).dropna()"
   ]
  },
  {
   "cell_type": "code",
   "execution_count": 13,
   "id": "b52f153f-69ad-483d-b3f8-91b91a93313c",
   "metadata": {},
   "outputs": [],
   "source": [
    "#Extracting all unique Years\n",
    "years_emi = set(emissions_df_filtered['Year'].unique())\n",
    "years_pest = set(pesticide_df_filtered['Year'].unique())\n",
    "years_pop = set(population_df_filtered['Year'].unique())\n",
    "years_gdp = set(gdp_cleaned_df_filtered['Year'].unique())\n",
    "years_agri = set(agriculture_df['Year'].unique())\n",
    "\n",
    "#Finding Common Codes\n",
    "common_years = years_emi.intersection(years_pest).intersection(years_pop).intersection(years_gdp).intersection(years_agri)\n",
    "\n",
    "#Filter DataFrames\n",
    "emissions_final_df = emissions_df_filtered[emissions_df_filtered['Year'].isin(common_years)]\n",
    "pesticide_final_df = pesticide_df_filtered[pesticide_df_filtered['Year'].isin(common_years)]\n",
    "population_final_df = population_df_filtered[population_df_filtered['Year'].isin(common_years)]\n",
    "gdp_final_df = gdp_cleaned_df_filtered[gdp_cleaned_df_filtered['Year'].isin(common_years)]\n",
    "agriculture_final_df = agriculture_df[agriculture_df['Year'].isin(common_years)]\n"
   ]
  },
  {
   "cell_type": "code",
   "execution_count": 14,
   "id": "9aa054c1-a4d1-4d1c-b47a-f399fd862baf",
   "metadata": {
    "scrolled": true
   },
   "outputs": [
    {
     "name": "stdout",
     "output_type": "stream",
     "text": [
      "171\n",
      "171\n",
      "171\n",
      "171\n",
      "145\n",
      "---------------\n",
      "171\n",
      "171\n",
      "171\n",
      "171\n",
      "145\n",
      "---------------\n",
      "30\n",
      "30\n",
      "30\n",
      "30\n",
      "30\n"
     ]
    }
   ],
   "source": [
    "#Ensuring All Data has the same Country names for their codes\n",
    "print(emissions_final_df['Country'].nunique())\n",
    "print(pesticide_final_df['Country'].nunique())\n",
    "print(population_final_df['Country'].nunique())\n",
    "print(gdp_final_df['Country'].nunique())\n",
    "print(agriculture_final_df['Country'].nunique())\n",
    "print('---------------')\n",
    "print(emissions_final_df['Code'].nunique())\n",
    "print(pesticide_final_df['Code'].nunique())\n",
    "print(population_final_df['Code'].nunique())\n",
    "print(gdp_final_df['Code'].nunique())\n",
    "print(agriculture_final_df['Code'].nunique())\n",
    "print('---------------')\n",
    "print(emissions_final_df['Year'].nunique())\n",
    "print(pesticide_final_df['Year'].nunique())\n",
    "print(population_final_df['Year'].nunique())\n",
    "print(gdp_final_df['Year'].nunique())\n",
    "print(agriculture_final_df['Year'].nunique())"
   ]
  },
  {
   "cell_type": "code",
   "execution_count": 15,
   "id": "26cffcdf-29be-4a9e-8b6d-81bb22aea8a8",
   "metadata": {},
   "outputs": [],
   "source": [
    "#Extracting Common Countries\n",
    "country_emi= set(emissions_final_df['Country'].unique())\n",
    "country_pest = set(pesticide_final_df['Country'].unique())\n",
    "country_pop = set(population_final_df['Country'].unique())\n",
    "country_gdp = set(gdp_final_df['Country'].unique())\n",
    "country_agri = set(agriculture_final_df['Country'].unique())\n",
    "\n",
    "#Finding Common Countries\n",
    "common_countries = country_emi.intersection(country_pest).intersection(country_pop).intersection(country_gdp).intersection(country_agri)\n",
    "\n",
    "#Filter DataFrames\n",
    "emi_final_df = emissions_final_df[emissions_final_df['Country'].isin(common_countries)]\n",
    "pest_final_df = pesticide_final_df[pesticide_final_df['Country'].isin(common_countries)]\n",
    "pop_final_df = population_final_df[population_final_df['Country'].isin(common_countries)]\n",
    "gdpA_final_df = gdp_final_df[gdp_final_df['Country'].isin(common_countries)]\n",
    "agri_final_df = agriculture_final_df[agriculture_final_df['Country'].isin(common_countries)]"
   ]
  },
  {
   "cell_type": "code",
   "execution_count": 16,
   "id": "ca02796c-32ad-43a5-9fe5-4bc961086a77",
   "metadata": {},
   "outputs": [
    {
     "name": "stdout",
     "output_type": "stream",
     "text": [
      "145\n",
      "145\n",
      "145\n",
      "145\n",
      "145\n",
      "---------------\n",
      "145\n",
      "145\n",
      "145\n",
      "145\n",
      "145\n",
      "---------------\n",
      "30\n",
      "30\n",
      "30\n",
      "30\n",
      "30\n"
     ]
    }
   ],
   "source": [
    "#Ensuring All Data has the same Country names for their codes\n",
    "print(emi_final_df['Country'].nunique())\n",
    "print(pest_final_df['Country'].nunique())\n",
    "print(pop_final_df['Country'].nunique())\n",
    "print(gdpA_final_df['Country'].nunique())\n",
    "print(agri_final_df['Country'].nunique())\n",
    "print('---------------')\n",
    "print(emi_final_df['Code'].nunique())\n",
    "print(pest_final_df['Code'].nunique())\n",
    "print(pop_final_df['Code'].nunique())\n",
    "print(gdpA_final_df['Code'].nunique())\n",
    "print(agri_final_df['Code'].nunique())\n",
    "print('---------------')\n",
    "print(emi_final_df['Year'].nunique())\n",
    "print(pest_final_df['Year'].nunique())\n",
    "print(pop_final_df['Year'].nunique())\n",
    "print(gdpA_final_df['Year'].nunique())\n",
    "print(agri_final_df['Year'].nunique())"
   ]
  },
  {
   "cell_type": "code",
   "execution_count": 17,
   "id": "13a044dc-edf9-465a-a04f-91e585177f69",
   "metadata": {},
   "outputs": [],
   "source": [
    "emi_final_df= emi_final_df.sort_values(by=['Country', 'Year'])\n"
   ]
  },
  {
   "cell_type": "code",
   "execution_count": null,
   "id": "4db37c1f-ca42-479e-b360-09109befcd3f",
   "metadata": {},
   "outputs": [],
   "source": []
  },
  {
   "cell_type": "markdown",
   "id": "83ec0ffd-88f0-48a4-b370-145c3d31662c",
   "metadata": {},
   "source": [
    "# Exporting Cleaned Data Placement in MongoDB\n"
   ]
  },
  {
   "cell_type": "code",
   "execution_count": 18,
   "id": "7a74b69d-ea6b-4b31-a461-da918d38e751",
   "metadata": {},
   "outputs": [],
   "source": [
    "#Exporting CSV files\n",
    "\n",
    "emi_final_df.to_csv('emissions.csv',index=False)\n",
    "pest_final_df.to_csv('pesticides.csv',index=False)\n",
    "pop_final_df.to_csv('population.csv',index=False)\n",
    "gdpA_final_df.to_csv('gdp.csv',index=False)\n",
    "agri_final_df.to_csv('agriculture.csv',index=False)\n"
   ]
  },
  {
   "cell_type": "code",
   "execution_count": null,
   "id": "f56b99d7-6bda-48c3-a349-995057bc3796",
   "metadata": {},
   "outputs": [],
   "source": []
  }
 ],
 "metadata": {
  "kernelspec": {
   "display_name": "Python 3 (ipykernel)",
   "language": "python",
   "name": "python3"
  },
  "language_info": {
   "codemirror_mode": {
    "name": "ipython",
    "version": 3
   },
   "file_extension": ".py",
   "mimetype": "text/x-python",
   "name": "python",
   "nbconvert_exporter": "python",
   "pygments_lexer": "ipython3",
   "version": "3.10.14"
  }
 },
 "nbformat": 4,
 "nbformat_minor": 5
}
