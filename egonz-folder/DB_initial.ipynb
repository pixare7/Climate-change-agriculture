{
 "cells": [
  {
   "cell_type": "markdown",
   "id": "e46df844-7afc-4e56-865c-bf415453b542",
   "metadata": {},
   "source": [
    "# Mongoimport statements:\n"
   ]
  },
  {
   "cell_type": "markdown",
   "id": "bcbc9abc-d4fc-41f7-b76e-d2b832cc03d9",
   "metadata": {},
   "source": [
    "mongoimport --type csv -d project3 -c agriculture --headerline --drop agriculture.csv\n",
    "\n",
    "mongoimport --type csv -d project3 -c emissions --headerline --drop emissions.csv\n",
    "\n",
    "mongoimport --type csv -d project3 -c gdp --headerline --drop gdp.csv\n",
    "\n",
    "mongoimport --type csv -d project3 -c pesticides --headerline --drop pesticides.csv\n",
    "\n",
    "mongoimport --type csv -d project3 -c population --headerline --drop population.csv"
   ]
  },
  {
   "cell_type": "markdown",
   "id": "acc224eb-f492-409b-9e66-4ae01e4fbe5c",
   "metadata": {},
   "source": [
    "# Import Library Statements\n"
   ]
  },
  {
   "cell_type": "code",
   "execution_count": 12,
   "id": "d55891a4-b674-44bf-b6c8-000b31495781",
   "metadata": {},
   "outputs": [],
   "source": [
    "# Import dependencies\n",
    "from pymongo import MongoClient\n",
    "from pprint import pprint\n",
    "import pandas as pd"
   ]
  },
  {
   "cell_type": "code",
   "execution_count": 13,
   "id": "28ed8356-1bf9-4ec1-bd97-4d0cf8e5cf0d",
   "metadata": {},
   "outputs": [],
   "source": [
    "# Create an instance of MongoClient\n",
    "mongo = MongoClient(port=27017)"
   ]
  },
  {
   "cell_type": "code",
   "execution_count": 14,
   "id": "0ef818de-2eef-4762-8ed7-691722a3d0d0",
   "metadata": {},
   "outputs": [
    {
     "name": "stdout",
     "output_type": "stream",
     "text": [
      "['admin',\n",
      " 'autosaurus',\n",
      " 'classDB',\n",
      " 'config',\n",
      " 'epa',\n",
      " 'fruits_db',\n",
      " 'local',\n",
      " 'met',\n",
      " 'petsitly_marketing',\n",
      " 'project3',\n",
      " 'uk_food']\n"
     ]
    }
   ],
   "source": [
    "# confirm that our new database was created\n",
    "pprint(mongo.list_database_names())\n"
   ]
  },
  {
   "cell_type": "code",
   "execution_count": 15,
   "id": "2a72834e-8c79-4c98-81c5-1e1f32921f64",
   "metadata": {},
   "outputs": [],
   "source": [
    "db = mongo['project3']"
   ]
  },
  {
   "cell_type": "code",
   "execution_count": 16,
   "id": "3717524a-93ca-4c40-9e8f-f5a3dd364092",
   "metadata": {},
   "outputs": [
    {
     "name": "stdout",
     "output_type": "stream",
     "text": [
      "['emissions', 'gdp', 'population', 'agriculture', 'pesticides']\n"
     ]
    }
   ],
   "source": [
    "print(db.list_collection_names())"
   ]
  },
  {
   "cell_type": "code",
   "execution_count": 17,
   "id": "8b38fb72-db2b-4a73-acee-4363805013a9",
   "metadata": {},
   "outputs": [],
   "source": [
    "emissions = db['emissions']\n",
    "gdp = db['gdp']\n",
    "population = db['population']\n",
    "agriculture = db['agriculture']\n",
    "pesticides = db['pesticides']"
   ]
  },
  {
   "cell_type": "code",
   "execution_count": 18,
   "id": "7eac5c79-97e7-40fa-a27a-3db57d8d1eb1",
   "metadata": {},
   "outputs": [],
   "source": [
    "#Grabbing each collection into a giant DataFrame\n",
    "emi_docu = emissions.find()\n",
    "emi_list = list(emi_docu)\n",
    "emi_df = pd.DataFrame(emi_list)\n",
    "\n",
    "gdp_docu = gdp.find()\n",
    "gdp_list = list(emi_docu)\n",
    "gdp_df = pd.DataFrame(gdp_list)\n",
    "\n",
    "pop_docu =population.find()\n",
    "pop_list = list(pop_docu)\n",
    "pop_df = pd.DataFrame(pop_list)\n",
    "\n",
    "agr_docu = agriculture.find()\n",
    "agr_list = list(agr_docu)\n",
    "agr_df = pd.DataFrame(agr_list)\n",
    "\n",
    "pest_docu = pesticides.find()\n",
    "pest_list = list(pest_docu)\n",
    "pest_df = pd.DataFrame(pest_list)\n"
   ]
  },
  {
   "cell_type": "code",
   "execution_count": 20,
   "id": "92667bd9-1a3e-4434-8791-e465218c3213",
   "metadata": {},
   "outputs": [
    {
     "data": {
      "text/html": [
       "<div>\n",
       "<style scoped>\n",
       "    .dataframe tbody tr th:only-of-type {\n",
       "        vertical-align: middle;\n",
       "    }\n",
       "\n",
       "    .dataframe tbody tr th {\n",
       "        vertical-align: top;\n",
       "    }\n",
       "\n",
       "    .dataframe thead th {\n",
       "        text-align: right;\n",
       "    }\n",
       "</style>\n",
       "<table border=\"1\" class=\"dataframe\">\n",
       "  <thead>\n",
       "    <tr style=\"text-align: right;\">\n",
       "      <th></th>\n",
       "      <th>_id</th>\n",
       "      <th>Code</th>\n",
       "      <th>Country</th>\n",
       "      <th>Year</th>\n",
       "      <th>CO2_Emissions</th>\n",
       "    </tr>\n",
       "  </thead>\n",
       "  <tbody>\n",
       "    <tr>\n",
       "      <th>0</th>\n",
       "      <td>66e8e9fef7ae5334e5327a29</td>\n",
       "      <td>ALB</td>\n",
       "      <td>Albania</td>\n",
       "      <td>1990</td>\n",
       "      <td>5980.000000</td>\n",
       "    </tr>\n",
       "    <tr>\n",
       "      <th>1</th>\n",
       "      <td>66e8e9fef7ae5334e5327a2a</td>\n",
       "      <td>ALB</td>\n",
       "      <td>Albania</td>\n",
       "      <td>1991</td>\n",
       "      <td>4060.000000</td>\n",
       "    </tr>\n",
       "    <tr>\n",
       "      <th>2</th>\n",
       "      <td>66e8e9fef7ae5334e5327a2b</td>\n",
       "      <td>ALB</td>\n",
       "      <td>Albania</td>\n",
       "      <td>1992</td>\n",
       "      <td>2220.000000</td>\n",
       "    </tr>\n",
       "    <tr>\n",
       "      <th>3</th>\n",
       "      <td>66e8e9fef7ae5334e5327a2c</td>\n",
       "      <td>ALB</td>\n",
       "      <td>Albania</td>\n",
       "      <td>1993</td>\n",
       "      <td>2060.000000</td>\n",
       "    </tr>\n",
       "    <tr>\n",
       "      <th>4</th>\n",
       "      <td>66e8e9fef7ae5334e5327a2d</td>\n",
       "      <td>ALB</td>\n",
       "      <td>Albania</td>\n",
       "      <td>1994</td>\n",
       "      <td>2070.000000</td>\n",
       "    </tr>\n",
       "    <tr>\n",
       "      <th>...</th>\n",
       "      <td>...</td>\n",
       "      <td>...</td>\n",
       "      <td>...</td>\n",
       "      <td>...</td>\n",
       "      <td>...</td>\n",
       "    </tr>\n",
       "    <tr>\n",
       "      <th>4345</th>\n",
       "      <td>66e8e9fff7ae5334e5328b22</td>\n",
       "      <td>ZWE</td>\n",
       "      <td>Zimbabwe</td>\n",
       "      <td>2015</td>\n",
       "      <td>12430.000305</td>\n",
       "    </tr>\n",
       "    <tr>\n",
       "      <th>4346</th>\n",
       "      <td>66e8e9fff7ae5334e5328b23</td>\n",
       "      <td>ZWE</td>\n",
       "      <td>Zimbabwe</td>\n",
       "      <td>2016</td>\n",
       "      <td>11020.000458</td>\n",
       "    </tr>\n",
       "    <tr>\n",
       "      <th>4347</th>\n",
       "      <td>66e8e9fff7ae5334e5328b24</td>\n",
       "      <td>ZWE</td>\n",
       "      <td>Zimbabwe</td>\n",
       "      <td>2017</td>\n",
       "      <td>10340.000153</td>\n",
       "    </tr>\n",
       "    <tr>\n",
       "      <th>4348</th>\n",
       "      <td>66e8e9fff7ae5334e5328b25</td>\n",
       "      <td>ZWE</td>\n",
       "      <td>Zimbabwe</td>\n",
       "      <td>2018</td>\n",
       "      <td>12380.000114</td>\n",
       "    </tr>\n",
       "    <tr>\n",
       "      <th>4349</th>\n",
       "      <td>66e8e9fff7ae5334e5328b26</td>\n",
       "      <td>ZWE</td>\n",
       "      <td>Zimbabwe</td>\n",
       "      <td>2019</td>\n",
       "      <td>11760.000229</td>\n",
       "    </tr>\n",
       "  </tbody>\n",
       "</table>\n",
       "<p>4350 rows × 5 columns</p>\n",
       "</div>"
      ],
      "text/plain": [
       "                           _id Code   Country  Year  CO2_Emissions\n",
       "0     66e8e9fef7ae5334e5327a29  ALB   Albania  1990    5980.000000\n",
       "1     66e8e9fef7ae5334e5327a2a  ALB   Albania  1991    4060.000000\n",
       "2     66e8e9fef7ae5334e5327a2b  ALB   Albania  1992    2220.000000\n",
       "3     66e8e9fef7ae5334e5327a2c  ALB   Albania  1993    2060.000000\n",
       "4     66e8e9fef7ae5334e5327a2d  ALB   Albania  1994    2070.000000\n",
       "...                        ...  ...       ...   ...            ...\n",
       "4345  66e8e9fff7ae5334e5328b22  ZWE  Zimbabwe  2015   12430.000305\n",
       "4346  66e8e9fff7ae5334e5328b23  ZWE  Zimbabwe  2016   11020.000458\n",
       "4347  66e8e9fff7ae5334e5328b24  ZWE  Zimbabwe  2017   10340.000153\n",
       "4348  66e8e9fff7ae5334e5328b25  ZWE  Zimbabwe  2018   12380.000114\n",
       "4349  66e8e9fff7ae5334e5328b26  ZWE  Zimbabwe  2019   11760.000229\n",
       "\n",
       "[4350 rows x 5 columns]"
      ]
     },
     "execution_count": 20,
     "metadata": {},
     "output_type": "execute_result"
    }
   ],
   "source": [
    "emi_df"
   ]
  },
  {
   "cell_type": "code",
   "execution_count": null,
   "id": "257c3442-48a5-439e-b48a-fdd84ab2fc2d",
   "metadata": {},
   "outputs": [],
   "source": []
  }
 ],
 "metadata": {
  "kernelspec": {
   "display_name": "Python 3 (ipykernel)",
   "language": "python",
   "name": "python3"
  },
  "language_info": {
   "codemirror_mode": {
    "name": "ipython",
    "version": 3
   },
   "file_extension": ".py",
   "mimetype": "text/x-python",
   "name": "python",
   "nbconvert_exporter": "python",
   "pygments_lexer": "ipython3",
   "version": "3.10.14"
  }
 },
 "nbformat": 4,
 "nbformat_minor": 5
}
